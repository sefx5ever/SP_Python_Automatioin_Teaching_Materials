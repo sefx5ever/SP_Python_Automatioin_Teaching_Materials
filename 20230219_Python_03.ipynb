{
 "cells": [
  {
   "cell_type": "markdown",
   "id": "0f56e50f",
   "metadata": {},
   "source": [
    "# Python 基礎 - 3"
   ]
  },
  {
   "cell_type": "markdown",
   "id": "c2458e8a",
   "metadata": {},
   "source": [
    "### datetime 套件"
   ]
  },
  {
   "cell_type": "code",
   "execution_count": 2,
   "id": "d92ca139",
   "metadata": {},
   "outputs": [
    {
     "name": "stdout",
     "output_type": "stream",
     "text": [
      "Way 1 的 Output: 2023-02-19\n",
      "Way 2 的 Output: 2023-02-19\n",
      "Way 3 的 Output: 2023-02-19\n"
     ]
    }
   ],
   "source": [
    "## 套件匯入概念（from、import、as）\n",
    "### Way 1\n",
    "import datetime\n",
    "today = datetime.date.today()\n",
    "print(f\"Way 1 的 Output: {today}\")\n",
    "\n",
    "### Way 2\n",
    "from datetime import date\n",
    "today = date.today()\n",
    "print(f\"Way 2 的 Output: {today}\")\n",
    "\n",
    "### Way 3 \n",
    "from datetime import date as dt\n",
    "today = dt.today()\n",
    "print(f\"Way 3 的 Output: {today}\")"
   ]
  },
  {
   "cell_type": "code",
   "execution_count": 11,
   "id": "31a37262",
   "metadata": {},
   "outputs": [
    {
     "name": "stdout",
     "output_type": "stream",
     "text": [
      "Current DateTime: 2023-02-19 11:09:12.432313\n",
      "US Eastern timezone DateTime: 2023/02/18 22:09:12 EST -0500\n",
      "86400.0\n"
     ]
    }
   ],
   "source": [
    "## datetime 常用 function\n",
    "### 1.獲取現在的時間\n",
    "from datetime import datetime as dt\n",
    "now = dt.now()\n",
    "print(\"Current DateTime:\",now)\n",
    "\n",
    "### 2.獲取紐約的時間\n",
    "import pytz\n",
    "dt_us_eastern = dt.now(pytz.timezone('America/New_York'))\n",
    "print(\"US Eastern timezone DateTime:\", dt_us_eastern.strftime(\"%Y/%m/%d %H:%M:%S %Z %z\"))\n",
    "#### https://www.w3schools.com/python/python_datetime.asp\n",
    "\n",
    "### 3.時間相減\n",
    "from datetime import timedelta as td\n",
    "today = dt.today()\n",
    "yesterday = today - td(days=1)\n",
    "dt_diff = today - yesterday\n",
    "print(dt_diff.total_seconds()) "
   ]
  },
  {
   "cell_type": "markdown",
   "id": "fec57d2a",
   "metadata": {},
   "source": [
    "### if-elif-else"
   ]
  },
  {
   "cell_type": "code",
   "execution_count": 21,
   "id": "c34aa142",
   "metadata": {},
   "outputs": [
    {
     "name": "stdout",
     "output_type": "stream",
     "text": [
      "A+\n",
      "奇數\n",
      "True\n"
     ]
    }
   ],
   "source": [
    "#if-elif-else\n",
    "## 成績判斷機\n",
    "result = 95\n",
    "\n",
    "if (result >= 90) and (result <= 100):\n",
    "    print(\"A+\")\n",
    "elif result >= 80:\n",
    "    print(\"A\")\n",
    "elif result >= 60:\n",
    "    print(\"B\")\n",
    "    \n",
    "## 奇數、偶數判斷\n",
    "num = 95\n",
    "\n",
    "if (num%2 == 0):\n",
    "    print(\"偶數\")\n",
    "else:\n",
    "    print(\"奇數\")\n",
    "\n",
    "## 資料形態判斷機\n",
    "data = {\"key\":\"value\"}\n",
    "\n",
    "if isinstance(data,list):\n",
    "    print(True)\n",
    "else:\n",
    "    print(False)"
   ]
  },
  {
   "cell_type": "markdown",
   "id": "7b488036",
   "metadata": {},
   "source": [
    "### for-loop"
   ]
  },
  {
   "cell_type": "code",
   "execution_count": 39,
   "id": "52ce7a33",
   "metadata": {},
   "outputs": [
    {
     "name": "stdout",
     "output_type": "stream",
     "text": [
      "1 Ann 148\n",
      "2 Dabby 150\n",
      "3 Steve 180\n",
      "4 Jet 173\n",
      "5 Amy 156\n"
     ]
    }
   ],
   "source": [
    "#for-loop\n",
    "## Tuple / List\n",
    "num_list = [1,2,3,4]\n",
    "\n",
    "for num in num_list:\n",
    "    print(num)\n",
    "\n",
    "## range\n",
    "for num in range(10):\n",
    "    print(num)\n",
    "\n",
    "## enumerate\n",
    "data_list = [\"a\",\"b\",\"c\",\"d\"]\n",
    "odd_list = []\n",
    "even_list = []\n",
    "\n",
    "for index,data in enumerate(data_list):\n",
    "    print(\"Current Idex:\",index)\n",
    "    if ((index+1)%2 == 0):\n",
    "        even_list.append(data)\n",
    "    else:\n",
    "        odd_list.append(data)\n",
    "print(odd_list,even_list)\n",
    "\n",
    "## zip\n",
    "data_list = {\n",
    "     \"name\" : [\"Jay\",\"Bill\",\"Alice\",\"May\",\"Max\",\"Ann\",\"Dabby\",\"Steve\",\"Jet\",\"Amy\"],\n",
    "      \"sex\" : [\"M\",\"M\",\"F\",\"F\",\"M\",\"F\",\"F\",\"M\",\"M\",\"F\"],\n",
    "   \"height\" : [170,189,160,158,185,148,150,180,173,156]\n",
    "}\n",
    "\n",
    "for index,data in enumerate(zip(data_list[\"name\"][5:],data_list[\"height\"][5:])):\n",
    "    print(index+1,data[0],data[1])"
   ]
  },
  {
   "cell_type": "markdown",
   "id": "cdf626cf",
   "metadata": {},
   "source": [
    "### while-loop"
   ]
  },
  {
   "cell_type": "code",
   "execution_count": 44,
   "id": "d6491dd7",
   "metadata": {},
   "outputs": [
    {
     "name": "stdout",
     "output_type": "stream",
     "text": [
      "11\n"
     ]
    }
   ],
   "source": [
    "#while-loop\n",
    "## infinity loop\n",
    "num = 0\n",
    "\n",
    "while ():\n",
    "    print(num)\n",
    "    num+=1\n",
    "\n",
    "## Bool\n",
    "\n",
    "## Condition\n",
    "start_val = 0\n",
    "\n",
    "while start_val <= 10:\n",
    "#     print(start_val)\n",
    "    start_val+=1\n",
    "\n",
    "print(start_val)"
   ]
  },
  {
   "cell_type": "markdown",
   "id": "d3ce3764",
   "metadata": {},
   "source": [
    "### built-in function which are common use in loop"
   ]
  },
  {
   "cell_type": "code",
   "execution_count": 48,
   "id": "1ff0511b",
   "metadata": {},
   "outputs": [
    {
     "name": "stdout",
     "output_type": "stream",
     "text": [
      "=================\n",
      "1\n",
      "=================\n",
      "=================\n",
      "2\n",
      "=================\n",
      "=================\n",
      "=================\n",
      "4\n",
      "=================\n",
      "=================\n",
      "5\n",
      "=================\n"
     ]
    }
   ],
   "source": [
    "#for-loop / while-loop built-in function\n",
    "## pass\n",
    "x = [1,2,3,4,5]\n",
    "\n",
    "for num in x:\n",
    "    if num == 3:\n",
    "        print(num)\n",
    "    else:\n",
    "        pass\n",
    "\n",
    "## break\n",
    "for num in x:\n",
    "    if num == 3:\n",
    "        break\n",
    "    else:\n",
    "        print(num)\n",
    "\n",
    "## continue\n",
    "for num in x:\n",
    "    print(\"=================\")\n",
    "    if num == 3:\n",
    "        continue\n",
    "    else:\n",
    "        print(num)\n",
    "    print(\"=================\")"
   ]
  },
  {
   "cell_type": "markdown",
   "id": "9d5136f1",
   "metadata": {},
   "source": [
    "### 程式情景説明與應用"
   ]
  },
  {
   "cell_type": "code",
   "execution_count": 57,
   "id": "4d0427d1",
   "metadata": {},
   "outputs": [
    {
     "name": "stdout",
     "output_type": "stream",
     "text": [
      "[{'company': '台灣人壽'}, {'company': '中國信託產物'}, {'company': '新光產物'}]\n"
     ]
    }
   ],
   "source": [
    "## EIP 資料\n",
    "insure_company = {\n",
    "    \"台灣人壽(新)\" : \"台灣人壽\",\n",
    "    \"安達國際(康健)人壽\" : \"康健人壽\",\n",
    "    \"富邦產險\" : \"富邦產物\",\n",
    "    \"泰安產險\" : \"泰安產物\",\n",
    "    \"明台產物(產)\" : \"明台產物\",\n",
    "    \"旺旺友聯產物(產)\" : \"旺旺友聯產物\",\n",
    "    \"新安東京產險\" : \"新安東京產物\",\n",
    "    \"和泰產物(產)\" : \"和泰產物\",\n",
    "    \"兆豐產險\" : \"兆豐產物\",\n",
    "    \"臺灣產物\" : \"台灣產物\",\n",
    "    \"第一產物(產)\" : \"第一產物\",\n",
    "    \"新光產險\" : \"新光產物\",\n",
    "    \"安達產物保險\" : \"安達產物\",\n",
    "    \"中國信託產險\" : \"中國信託產物\"\n",
    "}\n",
    "\n",
    "data = [\n",
    "    {\n",
    "        \"company\" : \"台灣人壽(新)\"\n",
    "    },{\n",
    "        \"company\" : \"中國信託產險\"\n",
    "    },{\n",
    "        \"company\" : \"新光產險\"\n",
    "    }\n",
    "]\n",
    "\n",
    "for each in data:\n",
    "    each['company'] = insure_company[each['company']]\n",
    "print(data)"
   ]
  }
 ],
 "metadata": {
  "kernelspec": {
   "display_name": "Python 3 (ipykernel)",
   "language": "python",
   "name": "python3"
  },
  "language_info": {
   "codemirror_mode": {
    "name": "ipython",
    "version": 3
   },
   "file_extension": ".py",
   "mimetype": "text/x-python",
   "name": "python",
   "nbconvert_exporter": "python",
   "pygments_lexer": "ipython3",
   "version": "3.9.13"
  }
 },
 "nbformat": 4,
 "nbformat_minor": 5
}
