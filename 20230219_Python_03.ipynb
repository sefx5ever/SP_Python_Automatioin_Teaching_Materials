{
 "cells": [
  {
   "cell_type": "markdown",
   "id": "0f56e50f",
   "metadata": {},
   "source": [
    "# Python 基礎 - 3"
   ]
  },
  {
   "cell_type": "markdown",
   "id": "c2458e8a",
   "metadata": {},
   "source": [
    "### datetime 套件"
   ]
  },
  {
   "cell_type": "code",
   "execution_count": null,
   "id": "d92ca139",
   "metadata": {},
   "outputs": [],
   "source": [
    "## 套件匯入概念（from、import、as）\n",
    "### Way 1\n",
    "import datetime\n",
    "today = datetime.date.today()\n",
    "print(f\"Way 1 的 Output: {today}\")\n",
    "\n",
    "### Way 2\n",
    "from datetime import date\n",
    "today = date.today()\n",
    "print(f\"Way 2 的 Output: {today}\")\n",
    "\n",
    "### Way3 \n",
    "from datetime import date as dt\n",
    "today = dt.today()\n",
    "print(f\"Way 3 的 Output: {today}\")"
   ]
  },
  {
   "cell_type": "code",
   "execution_count": null,
   "id": "31a37262",
   "metadata": {},
   "outputs": [],
   "source": [
    "## datetime 常用 function\n",
    "### 1.獲取現在的時間\n",
    "from datetime import datetime as dt\n",
    "now = dt.now()\n",
    "print(\"Current DateTime:\",now)\n",
    "\n",
    "### 2.獲取紐約的時間\n",
    "import pytz\n",
    "dt_us_eastern = dt.now(pytz.timezone('America/New_York'))\n",
    "print(\"US Eastern timezone DateTime:\", dt_us_eastern.strftime(\"%Y:%m:%d %H:%M:%S %Z %z\"))\n",
    "#### https://www.w3schools.com/python/python_datetime.asp\n",
    "\n",
    "### 3.時間相減\n",
    "from datetime import timedelta as td\n",
    "today = dt.today()\n",
    "yesterday = today - td(days=1)\n",
    "dt_diff = today - yesterday\n",
    "print(dt_diff.days) "
   ]
  },
  {
   "cell_type": "markdown",
   "id": "fec57d2a",
   "metadata": {},
   "source": [
    "### if-elif-else"
   ]
  },
  {
   "cell_type": "code",
   "execution_count": null,
   "id": "c34aa142",
   "metadata": {},
   "outputs": [],
   "source": [
    "#if-elif-else\n",
    "## 成績判斷機\n",
    "\n",
    "## 奇數、偶數判斷\n",
    "\n",
    "## 資料形態判斷機"
   ]
  },
  {
   "cell_type": "markdown",
   "id": "7b488036",
   "metadata": {},
   "source": [
    "### for-loop"
   ]
  },
  {
   "cell_type": "code",
   "execution_count": null,
   "id": "52ce7a33",
   "metadata": {},
   "outputs": [],
   "source": [
    "#for-loop\n",
    "## Tuple / List\n",
    "\n",
    "## range\n",
    "\n",
    "## zip\n",
    "\n",
    "## enumerate\n"
   ]
  },
  {
   "cell_type": "markdown",
   "id": "cdf626cf",
   "metadata": {},
   "source": [
    "### while-loop"
   ]
  },
  {
   "cell_type": "code",
   "execution_count": null,
   "id": "d6491dd7",
   "metadata": {},
   "outputs": [],
   "source": [
    "#while-loop\n",
    "## infinity loop\n",
    "\n",
    "## Bool\n",
    "\n",
    "## Condition"
   ]
  },
  {
   "cell_type": "markdown",
   "id": "d3ce3764",
   "metadata": {},
   "source": [
    "### built-in function which are common use in loop"
   ]
  },
  {
   "cell_type": "code",
   "execution_count": null,
   "id": "1ff0511b",
   "metadata": {},
   "outputs": [],
   "source": [
    "#for-loop / while-loop built-in function\n",
    "## pass\n",
    "\n",
    "## break\n",
    "\n",
    "## continue"
   ]
  },
  {
   "cell_type": "markdown",
   "id": "9d5136f1",
   "metadata": {},
   "source": [
    "### 程式情景説明與應用"
   ]
  },
  {
   "cell_type": "code",
   "execution_count": null,
   "id": "4d0427d1",
   "metadata": {},
   "outputs": [],
   "source": [
    "## 奇數、偶數判斷\n",
    "\n",
    "\n",
    "## EIP 資料\n",
    "insure_company = {\n",
    "    \"台灣人壽(新)\" : \"台灣人壽\",\n",
    "    \"安達國際(康健)人壽\" : \"康健人壽\",\n",
    "    \"富邦產險\" : \"富邦產物\",\n",
    "    \"泰安產險\" : \"泰安產物\",\n",
    "    \"明台產物(產)\" : \"明台產物\",\n",
    "    \"旺旺友聯產物(產)\" : \"旺旺友聯產物\",\n",
    "    \"新安東京產險\" : \"新安東京產物\",\n",
    "    \"和泰產物(產)\" : \"和泰產物\",\n",
    "    \"兆豐產險\" : \"兆豐產物\",\n",
    "    \"臺灣產物\" : \"台灣產物\",\n",
    "    \"第一產物(產)\" : \"第一產物\",\n",
    "    \"新光產險\" : \"新光產物\",\n",
    "    \"安達產物保險\" : \"安達產物\",\n",
    "    \"中國信託產險\" : \"中國信託產物\"\n",
    "}\n",
    "\n",
    "data = [\n",
    "    {\n",
    "        \"company\" : \"台灣人壽(新)\"\n",
    "    },{\n",
    "        \"company\" : \"中國信託產險\"\n",
    "    },{\n",
    "        \"company\" : \"新光產險\"\n",
    "    }\n",
    "]"
   ]
  }
 ],
 "metadata": {
  "kernelspec": {
   "display_name": "Python 3 (ipykernel)",
   "language": "python",
   "name": "python3"
  },
  "language_info": {
   "codemirror_mode": {
    "name": "ipython",
    "version": 3
   },
   "file_extension": ".py",
   "mimetype": "text/x-python",
   "name": "python",
   "nbconvert_exporter": "python",
   "pygments_lexer": "ipython3",
   "version": "3.9.13"
  }
 },
 "nbformat": 4,
 "nbformat_minor": 5
}
