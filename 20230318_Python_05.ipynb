{
 "cells": [
  {
   "cell_type": "markdown",
   "id": "f32acf0f",
   "metadata": {},
   "source": [
    "# Python 基礎 - 5"
   ]
  },
  {
   "cell_type": "markdown",
   "id": "0517875c",
   "metadata": {},
   "source": [
    "### 套件安裝"
   ]
  },
  {
   "cell_type": "code",
   "execution_count": null,
   "id": "c4c8d855",
   "metadata": {},
   "outputs": [],
   "source": [
    "!pip install selenium"
   ]
  },
  {
   "cell_type": "markdown",
   "id": "49bd860d",
   "metadata": {},
   "source": [
    "### 套件匯入"
   ]
  },
  {
   "cell_type": "code",
   "execution_count": null,
   "id": "178d93bf",
   "metadata": {},
   "outputs": [],
   "source": [
    "from time import sleep\n",
    "from selenium import webdriver\n",
    "from selenium.webdriver.common.by import By\n",
    "from selenium.common.exceptions import NoSuchAttributeException\n",
    "from selenium.webdriver.firefox.service import Service\n",
    "from selenium.webdriver.firefox.options import Options as FirefoxOptions\n",
    "from selenium.webdriver.common.action_chains import ActionChains"
   ]
  },
  {
   "cell_type": "markdown",
   "id": "d379ce82",
   "metadata": {},
   "source": [
    "### 啓動 Chrome 進行各項行爲"
   ]
  },
  {
   "cell_type": "code",
   "execution_count": null,
   "id": "783a2fb3",
   "metadata": {},
   "outputs": [],
   "source": [
    "driver = webdriver.Chrome()"
   ]
  },
  {
   "cell_type": "code",
   "execution_count": null,
   "id": "98adb4dd",
   "metadata": {},
   "outputs": [],
   "source": [
    "## 開啓 EIP 網頁\n",
    "driver.get(\"https://eip.leishan.com.tw/Default.aspx?web=/Insurance.aspx\")"
   ]
  },
  {
   "cell_type": "code",
   "execution_count": null,
   "id": "349d2274",
   "metadata": {},
   "outputs": [],
   "source": [
    "PKS_ACC_USER = \"<賬號>\"\n",
    "PKS_ACC_PASSWORD = \"<密碼>\""
   ]
  },
  {
   "cell_type": "code",
   "execution_count": null,
   "id": "a70fc752",
   "metadata": {},
   "outputs": [],
   "source": [
    "## 登入賬號\n",
    "acc_input = driver.find_element(By.ID,\"ContentPlaceHolder1_Login1_UserName\")\n",
    "ActionChains(driver).send_keys_to_element(acc_input,PKS_ACC_USER).perform()"
   ]
  },
  {
   "cell_type": "code",
   "execution_count": null,
   "id": "6d5af7d1",
   "metadata": {},
   "outputs": [],
   "source": [
    "## 登入密碼\n",
    "pass_input = driver.find_element(By.ID,\"ContentPlaceHolder1_Login1_Password\")\n",
    "ActionChains(driver).send_keys_to_element(pass_input,PKS_ACC_PASSWORD).perform()"
   ]
  },
  {
   "cell_type": "code",
   "execution_count": null,
   "id": "69cb0aaf",
   "metadata": {},
   "outputs": [],
   "source": [
    "## 點擊登入\n",
    "driver.find_element(By.ID,\"ContentPlaceHolder1_Login1_LoginButton\").click()"
   ]
  },
  {
   "cell_type": "code",
   "execution_count": null,
   "id": "2f9d49df",
   "metadata": {},
   "outputs": [],
   "source": [
    "## 選擇行動投保\n",
    "driver.find_element(By.ID,\"ContentPlaceHolder1_RBInsST_11\").click()"
   ]
  },
  {
   "cell_type": "code",
   "execution_count": null,
   "id": "9f0d535b",
   "metadata": {},
   "outputs": [],
   "source": [
    "## 獲取本頁總筆數\n",
    "total_rows = len(driver.find_elements(By.XPATH,\"//table[@id='ContentPlaceHolder1_GridView1']//tr[@align]\"))-1"
   ]
  },
  {
   "cell_type": "code",
   "execution_count": null,
   "id": "8d20f40b",
   "metadata": {},
   "outputs": [],
   "source": [
    "## 本次爬取所需欄位\n",
    "###流水號\n",
    "###保單號碼\n",
    "###附件上傳\n",
    "###保險公司\n",
    "###要保人\n",
    "###要保人身份證\n",
    "\n",
    "## 資料所在的 Table 路徑\n",
    "fix_xpath = \"//table[@id='ContentPlaceHolder1_GridView1']//tr[@align]\"\n",
    "\n",
    "for num in range(total_rows):\n",
    "    ## 獲取流水號\n",
    "    print(\"流水號：\",driver.find_element(By.XPATH,fix_xpath + \"/td[4]\").text)\n",
    "    ## 獲取保單號碼\n",
    "    print(\"保單號碼：\",driver.find_element(By.XPATH,fix_xpath + \"/td[6]/a\").text)\n",
    "    ## 獲取保險公司\n",
    "    print(\"保險公司：\",driver.find_element(By.XPATH,fix_xpath + \"/td[7]\").text)\n",
    "    ## 獲取要保人\n",
    "    issuer = driver.find_element(By.XPATH,fix_xpath + \"/td[10]/a\")\n",
    "    print(\"要保人：\",issuer.text)\n",
    "    sleep(1)\n",
    "    ## 獲取要保人身份證\n",
    "    issuer.click()\n",
    "    sleep(1)\n",
    "    driver.switch_to.window(driver.window_handles[1])\n",
    "    print(\"要保人身份證：\",driver.find_element(By.ID,\"FormView1_Label3\").text)\n",
    "    driver.close()\n",
    "    driver.switch_to.window(driver.window_handles[0])\n",
    "    sleep(1)\n",
    "    ## 下載附件上傳中的文件\n",
    "    driver.find_element(By.ID,\"ContentPlaceHolder1_GridView1_ImageButton5_0\").click()\n",
    "    driver.switch_to.window(driver.window_handles[1])\n",
    "    driver.switch_to.frame(driver.find_element(By.XPATH,\"//iframe\"))\n",
    "    driver.find_element(By.XPATH,\"//div[@id='UpdatePanel1']//tr[@align][2]/td[contains(text(),'FromPolicySign')]/preceding-sibling::td[1]//a\").click()\n",
    "    driver.close()\n",
    "    driver.switch_to.window(driver.window_handles[0])"
   ]
  },
  {
   "cell_type": "markdown",
   "id": "c98acc9e",
   "metadata": {},
   "source": [
    "### Selenium 異常排除測試函式"
   ]
  },
  {
   "cell_type": "code",
   "execution_count": null,
   "id": "0a1c8f90",
   "metadata": {},
   "outputs": [],
   "source": [
    "driver.current_url"
   ]
  },
  {
   "cell_type": "code",
   "execution_count": null,
   "id": "409c11da",
   "metadata": {},
   "outputs": [],
   "source": [
    "driver.page_source"
   ]
  },
  {
   "cell_type": "code",
   "execution_count": null,
   "id": "c0fc8142",
   "metadata": {},
   "outputs": [],
   "source": [
    "driver.window_handles"
   ]
  },
  {
   "cell_type": "code",
   "execution_count": null,
   "id": "3ec1762b",
   "metadata": {},
   "outputs": [],
   "source": [
    "driver.switch_to.window(driver.window_handles[0])"
   ]
  },
  {
   "cell_type": "code",
   "execution_count": null,
   "id": "31098001",
   "metadata": {},
   "outputs": [],
   "source": [
    "driver.close()"
   ]
  },
  {
   "cell_type": "code",
   "execution_count": null,
   "id": "76ee8045",
   "metadata": {},
   "outputs": [],
   "source": [
    "driver.find_element(By.XPATH,\"//div[@id='UpdatePanel1']//tr[@align][2]/td[contains(text(),'FromPolicySign')]/preceding-sibling::td[1]//a\").click()"
   ]
  },
  {
   "cell_type": "code",
   "execution_count": null,
   "id": "f4de14b8",
   "metadata": {},
   "outputs": [],
   "source": [
    "driver.switch_to.frame(driver.find_element(By.XPATH,\"//iframe\"))"
   ]
  },
  {
   "cell_type": "code",
   "execution_count": null,
   "id": "d9af193e",
   "metadata": {},
   "outputs": [],
   "source": [
    "driver.current_url"
   ]
  }
 ],
 "metadata": {
  "kernelspec": {
   "display_name": "Python 3 (ipykernel)",
   "language": "python",
   "name": "python3"
  },
  "language_info": {
   "codemirror_mode": {
    "name": "ipython",
    "version": 3
   },
   "file_extension": ".py",
   "mimetype": "text/x-python",
   "name": "python",
   "nbconvert_exporter": "python",
   "pygments_lexer": "ipython3",
   "version": "3.9.13"
  }
 },
 "nbformat": 4,
 "nbformat_minor": 5
}
