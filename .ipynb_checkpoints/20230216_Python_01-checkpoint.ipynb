{
 "cells": [
  {
   "cell_type": "markdown",
   "id": "4c6b7f97",
   "metadata": {},
   "source": [
    "# Python 環境安裝\n",
    "* Anaconda 下載\n",
    "    - 下載鏈接：https://www.anaconda.com/\n",
    "* Jupyter Notebook 界面介紹\n",
    "* 熟悉快捷按鈕\n",
    "    - 新增 cell\n",
    "    - 執行 cell\n",
    "    - 刪除 cell\n",
    "    - 移動 cell"
   ]
  },
  {
   "cell_type": "code",
   "execution_count": 2,
   "id": "3e9f2532",
   "metadata": {},
   "outputs": [
    {
     "data": {
      "text/plain": [
       "1"
      ]
     },
     "execution_count": 2,
     "metadata": {},
     "output_type": "execute_result"
    }
   ],
   "source": [
    "1"
   ]
  },
  {
   "cell_type": "markdown",
   "id": "a1e0c685",
   "metadata": {},
   "source": [
    "# Python 基礎 - 1"
   ]
  },
  {
   "cell_type": "code",
   "execution_count": null,
   "id": "6b9956f1",
   "metadata": {},
   "outputs": [],
   "source": [
    "#Hello World 程式（Value、Memory、ID）\n"
   ]
  },
  {
   "cell_type": "code",
   "execution_count": null,
   "id": "12a3dec2",
   "metadata": {},
   "outputs": [],
   "source": [
    "#變數賦予、注解語法、IPO 概念\n",
    "# 變數賦予\n",
    "## 1. 變數命名不可以數字，符號為開頭\n",
    "## 2. 同樣的詞在不同大小寫宣告後，將分開儲存\n",
    "\n",
    "# 注解語法（#）\n",
    "\n",
    "# IPO 概念，即爲 Input, Process, Output\n"
   ]
  },
  {
   "cell_type": "code",
   "execution_count": null,
   "id": "4ebbff37",
   "metadata": {},
   "outputs": [],
   "source": [
    "#Data Type/Conversion 介紹與應用（str、int、float、bool）\n",
    "# str（單引號、雙引號）（單行、多行）（Index）\n",
    "\n",
    "# int（整數）\n",
    "\n",
    "# float（浮點數）\n",
    "\n",
    "# bool（布林值）\n"
   ]
  },
  {
   "cell_type": "code",
   "execution_count": null,
   "id": "a211e3c5",
   "metadata": {},
   "outputs": [],
   "source": [
    "#常用算數運算符、比較操作符、賦值運算符、邏輯運算符、標識運算符、運算符優先級\n",
    "# 常用算數運算符（+、-、*、/、%、**、//）\n",
    "\n",
    "# 比較操作符（==、！=、<、>、<>、>=、<=）\n",
    "\n",
    "# 賦值運算符（=、+=）\n",
    "\n",
    "# 邏輯運算符（and、or、not）\n",
    "\n",
    "# 標識運算符（is、is not）\n",
    "\n",
    "# 運算符優先級\n",
    "## 參考鏈接：https://pythongeeks.org/python-operator-precedence/"
   ]
  },
  {
   "cell_type": "code",
   "execution_count": null,
   "id": "ece2d904",
   "metadata": {},
   "outputs": [],
   "source": [
    "#Built-in Function（data-type、len、print、format、input、split、replace）\n"
   ]
  }
 ],
 "metadata": {
  "kernelspec": {
   "display_name": "Python 3 (ipykernel)",
   "language": "python",
   "name": "python3"
  },
  "language_info": {
   "codemirror_mode": {
    "name": "ipython",
    "version": 3
   },
   "file_extension": ".py",
   "mimetype": "text/x-python",
   "name": "python",
   "nbconvert_exporter": "python",
   "pygments_lexer": "ipython3",
   "version": "3.9.13"
  }
 },
 "nbformat": 4,
 "nbformat_minor": 5
}
