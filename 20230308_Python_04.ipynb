{
 "cells": [
  {
   "cell_type": "markdown",
   "id": "50d6c425",
   "metadata": {},
   "source": [
    "# Python 基礎 - 4"
   ]
  },
  {
   "cell_type": "markdown",
   "id": "aeb66ca5",
   "metadata": {},
   "source": [
    "### 套件安裝"
   ]
  },
  {
   "cell_type": "code",
   "execution_count": null,
   "id": "59da9ae9",
   "metadata": {},
   "outputs": [],
   "source": [
    "!pip install requests"
   ]
  },
  {
   "cell_type": "markdown",
   "id": "7974a251",
   "metadata": {},
   "source": [
    "### 匯入套件"
   ]
  },
  {
   "cell_type": "code",
   "execution_count": null,
   "id": "5b2085a0",
   "metadata": {},
   "outputs": [],
   "source": [
    "import requests\n",
    "from time import sleep"
   ]
  },
  {
   "cell_type": "markdown",
   "id": "1b6d7fa2",
   "metadata": {},
   "source": [
    "### 程式請求流程"
   ]
  },
  {
   "cell_type": "code",
   "execution_count": null,
   "id": "def33131",
   "metadata": {},
   "outputs": [],
   "source": [
    "payload = {\n",
    "    \"condition\" : [],\n",
    "    \"desc\" : True,\n",
    "    \"fundIDs\" : \"A09003,B08228,B14123,B20074,B20190,B29037,B26018,B16191,B09108,B32094\",\n",
    "    \"pageIndex\" : \"1\",\n",
    "    \"pageSize\" : \"20\"\n",
    "}\n",
    "\n",
    "resp = requests.post(\"https://www.anuefund.com/new/anuefundApi/Search/Detail\",json=payload)"
   ]
  },
  {
   "cell_type": "code",
   "execution_count": null,
   "id": "c5f22c1b",
   "metadata": {},
   "outputs": [],
   "source": [
    "temp = resp.json()\n",
    "print(temp)"
   ]
  },
  {
   "cell_type": "code",
   "execution_count": null,
   "id": "40fa1e2c",
   "metadata": {},
   "outputs": [],
   "source": [
    "print(temp.keys())"
   ]
  },
  {
   "cell_type": "code",
   "execution_count": null,
   "id": "62785fcf",
   "metadata": {},
   "outputs": [],
   "source": [
    "print(len(temp['data']['fundDatas']))"
   ]
  },
  {
   "cell_type": "code",
   "execution_count": null,
   "id": "f4314052",
   "metadata": {},
   "outputs": [],
   "source": [
    "print(temp['data']['fundDatas'][0]['perF_3MMEJDesc'])"
   ]
  },
  {
   "cell_type": "code",
   "execution_count": null,
   "id": "547bdd82",
   "metadata": {},
   "outputs": [],
   "source": [
    "for each in temp['data']['fundDatas']:\n",
    "    data_ragic = {\n",
    "        \"1004447\" : each['fundName'],\n",
    "        \"1004448\" : each['fundID'],\n",
    "        \"1004449\" : each['perF_3MMEJDesc'],\n",
    "        \"1004450\" : each['perF_6MMEJDesc'],\n",
    "        \"1004451\" : each['perF_1YMEJDesc'],\n",
    "        \"1004452\" : each['perF_2YMEJDesc'],\n",
    "        \"1004453\" : each['perF_3YMEJDesc']\n",
    "    }\n",
    "\n",
    "    headers = {\n",
    "        \"Authorization\" : \"Basic NFhrcHF0cU1zdVR4aU9CNXBtc2dVS0MwQjVsbzVJSm9wM05pRVY4SGZHRVI5OFB2WGpmNjRQc1o5THJvWFVjZw==\"\n",
    "    }\n",
    "    \n",
    "    resp_ragic = requests.post(\"https://ap3.ragic.com/LloydsIncuranceAgency/forms16/53#!/53\",headers=headers,json=data_ragic)\n",
    "    print(resp_ragic.json())\n",
    "#     print(f\"基金名字：{each['fundName']}\")\n",
    "#     print(f\"基金代號：{each['fundID']}\")\n",
    "#     print(f\"三個月：{each['perF_3MMEJDesc']}\")\n",
    "#     print(f\"六個月：{each['perF_6MMEJDesc']}\")\n",
    "#     print(f\"一年：{each['perF_1YMEJDesc']}\")\n",
    "#     print(f\"兩年：{each['perF_2YMEJDesc']}\")\n",
    "#     print(f\"三年：{each['perF_3YMEJDesc']}\")\n",
    "    print(\"=\"*30)"
   ]
  },
  {
   "cell_type": "code",
   "execution_count": null,
   "id": "2c740bfd",
   "metadata": {},
   "outputs": [],
   "source": [
    "# 基金名字：fundName 1004447\n",
    "# 基金代號：fundID 1004448\n",
    "# 三個月：perF_3MMEJDesc 1004449\n",
    "# 六個月：perF_6MMEJDesc 1004450\n",
    "# 一年：perF_1YMEJDesc 1004451\n",
    "# 兩年：perF_2YMEJDesc 1004452\n",
    "# 三年：perF_3YMEJDesc 1004453\n",
    "\n",
    "# Token : \n",
    "\n",
    "# https://ap3.ragic.com/LloydsIncuranceAgency/forms16/53#!/53"
   ]
  },
  {
   "cell_type": "markdown",
   "id": "9043160b",
   "metadata": {},
   "source": [
    "### 圖片讀取 "
   ]
  },
  {
   "cell_type": "code",
   "execution_count": null,
   "id": "76580839",
   "metadata": {},
   "outputs": [],
   "source": [
    "pic = open(\"C:/Users/SEFx4/Desktop/upload-picture.jpg\",mode=\"rb\")"
   ]
  },
  {
   "cell_type": "markdown",
   "id": "3983532c",
   "metadata": {},
   "source": [
    "### Ragic API"
   ]
  },
  {
   "cell_type": "code",
   "execution_count": null,
   "id": "dee588aa",
   "metadata": {},
   "outputs": [],
   "source": [
    "data_ragic = {\n",
    "    \"1004456\" : \"kailin.jpg\",\n",
    "}\n",
    "\n",
    "headers = {\n",
    "    \"Authorization\" : \"Basic NFhrcHF0cU1zdVR4aU9CNXBtc2dVS0MwQjVsbzVJSm9wM05pRVY4SGZHRVI5OFB2WGpmNjRQc1o5THJvWFVjZw==\",\n",
    "}"
   ]
  },
  {
   "cell_type": "code",
   "execution_count": null,
   "id": "54acfef0",
   "metadata": {},
   "outputs": [],
   "source": [
    "resp_ragic = requests.post(\n",
    "    \"https://ap3.ragic.com/LloydsIncuranceAgency/forms16/53/8\",\n",
    "    headers=headers,\n",
    "    files=[\n",
    "        (\"1004456\",(\"upload-picture.jpg\",open(\"C:/Users/SEFx4/Desktop/upload-picture.jpg\",mode=\"rb\"),'application/pdf'))\n",
    "    ]\n",
    ")"
   ]
  },
  {
   "cell_type": "code",
   "execution_count": null,
   "id": "10f5d513",
   "metadata": {
    "scrolled": true
   },
   "outputs": [],
   "source": [
    "resp_ragic.json()"
   ]
  }
 ],
 "metadata": {
  "kernelspec": {
   "display_name": "Python 3 (ipykernel)",
   "language": "python",
   "name": "python3"
  },
  "language_info": {
   "codemirror_mode": {
    "name": "ipython",
    "version": 3
   },
   "file_extension": ".py",
   "mimetype": "text/x-python",
   "name": "python",
   "nbconvert_exporter": "python",
   "pygments_lexer": "ipython3",
   "version": "3.9.13"
  }
 },
 "nbformat": 4,
 "nbformat_minor": 5
}
