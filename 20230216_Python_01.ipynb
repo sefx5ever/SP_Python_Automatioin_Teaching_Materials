{
 "cells": [
  {
   "cell_type": "markdown",
   "id": "4c6b7f97",
   "metadata": {},
   "source": [
    "# Python 環境安裝\n",
    "* Anaconda 下載\n",
    "    - 下載鏈接：https://www.anaconda.com/\n",
    "* Jupyter Notebook 界面介紹\n",
    "* 熟悉快捷按鈕\n",
    "    - 新增 cell\n",
    "    - 執行 cell\n",
    "    - 刪除 cell\n",
    "    - 移動 cell"
   ]
  },
  {
   "cell_type": "markdown",
   "id": "a1e0c685",
   "metadata": {},
   "source": [
    "# Python 基礎 - 1"
   ]
  },
  {
   "cell_type": "code",
   "execution_count": null,
   "id": "6b9956f1",
   "metadata": {},
   "outputs": [],
   "source": [
    "#Hello World 程式（Value、type、ID）\n",
    "x = 1\n",
    "y = 1\n",
    "print(id(x))\n",
    "print(id(y))"
   ]
  },
  {
   "cell_type": "code",
   "execution_count": null,
   "id": "12a3dec2",
   "metadata": {},
   "outputs": [],
   "source": [
    "#變數賦予、注解語法、IPO 概念\n",
    "# 變數賦予\n",
    "## 1. 變數命名不可以數字，符號為開頭\n",
    "## 2. 同樣的詞在不同大小寫宣告後，將分開儲存\n",
    "first_num = 1 #第一組數字\n",
    "\n",
    "# 注解語法（#）\n",
    "\n",
    "# IPO 概念，即爲 Input, Process, Output\n"
   ]
  },
  {
   "cell_type": "code",
   "execution_count": 7,
   "id": "4ebbff37",
   "metadata": {},
   "outputs": [
    {
     "name": "stdout",
     "output_type": "stream",
     "text": [
      "p\n",
      "4.2\n",
      "True\n"
     ]
    }
   ],
   "source": [
    "#Data Type/Conversion 介紹與應用（str、int、float、bool）\n",
    "# str（單引號、雙引號）（單行、多行）（Index）\n",
    "x = \"apple\"\n",
    "print(x[2])\n",
    "\n",
    "# int（整數）\n",
    "x = 1\n",
    "\n",
    "# float（浮點數）\n",
    "x = 1.2 + 3\n",
    "print(x)\n",
    "\n",
    "# bool（布林值）True False\n",
    "print(True)"
   ]
  },
  {
   "cell_type": "code",
   "execution_count": 27,
   "id": "a211e3c5",
   "metadata": {},
   "outputs": [
    {
     "name": "stdout",
     "output_type": "stream",
     "text": [
      "我的名字3\n",
      "1\n",
      "8\n",
      "True\n",
      "True\n",
      "True\n"
     ]
    }
   ],
   "source": [
    "#常用算數運算符、比較操作符、賦值運算符、邏輯運算符、標識運算符、運算符優先級\n",
    "# 常用算數運算符（+、-、*、/、%、**、//）\n",
    "x = \"我的名字\" + \"3\"\n",
    "print(x)\n",
    "print(5%2)\n",
    "print(2**3)\n",
    "\n",
    "# 比較操作符（==、！=、<、>、<>、>=、<=）\n",
    "print(True != False)\n",
    "\n",
    "# 賦值運算符（=、+=）\n",
    "x = 1\n",
    "x+=1 # x = x + 1\n",
    "\n",
    "# 邏輯運算符（and、or、not）\n",
    "print(True and not False)\n",
    "\n",
    "# 標識運算符（is、is not）\n",
    "x = 1\n",
    "y = 1\n",
    "print(x is y)\n",
    "\n",
    "# 運算符優先級\n",
    "## 參考鏈接：https://pythongeeks.org/python-operator-precedence/"
   ]
  },
  {
   "cell_type": "code",
   "execution_count": 50,
   "id": "ece2d904",
   "metadata": {},
   "outputs": [
    {
     "name": "stdout",
     "output_type": "stream",
     "text": [
      "5\n",
      "我的名字是土撥\n",
      "我的名字是no21no3\n"
     ]
    }
   ],
   "source": [
    "#Built-in Function（data-type、len、print、format、input、split、replace）\n",
    "x = \"apple\"\n",
    "print(len(x))\n",
    "# format -1\n",
    "name = \"土撥\"\n",
    "sentence = f\"我的名字是{name}\"\n",
    "print(sentence)\n",
    "\n",
    "# format -2\n",
    "sentence_2 = \"我的名字是{1}{0}{2}\".format(1,\"no2\",\"no3\") #object\n",
    "#coding...............\n",
    "# sentence_2\n",
    "print(sentence_2)\n",
    "\n",
    "# x = input(\"請輸入你的姓名：\")\n",
    "# x = int(x)\n",
    "x = \"陳偉傑 (0617)\"\n",
    "x = x.split(\" \")\n",
    "x = \"我的名字是name\"\n",
    "x = x.replace(\"name\",\"土撥鼠\")"
   ]
  },
  {
   "cell_type": "code",
   "execution_count": 51,
   "id": "d8b2561b",
   "metadata": {},
   "outputs": [
    {
     "data": {
      "text/plain": [
       "'我的名字是土撥鼠'"
      ]
     },
     "execution_count": 51,
     "metadata": {},
     "output_type": "execute_result"
    }
   ],
   "source": [
    "x"
   ]
  },
  {
   "cell_type": "code",
   "execution_count": null,
   "id": "8f9c3365",
   "metadata": {},
   "outputs": [],
   "source": []
  }
 ],
 "metadata": {
  "kernelspec": {
   "display_name": "Python 3 (ipykernel)",
   "language": "python",
   "name": "python3"
  },
  "language_info": {
   "codemirror_mode": {
    "name": "ipython",
    "version": 3
   },
   "file_extension": ".py",
   "mimetype": "text/x-python",
   "name": "python",
   "nbconvert_exporter": "python",
   "pygments_lexer": "ipython3",
   "version": "3.9.13"
  }
 },
 "nbformat": 4,
 "nbformat_minor": 5
}
