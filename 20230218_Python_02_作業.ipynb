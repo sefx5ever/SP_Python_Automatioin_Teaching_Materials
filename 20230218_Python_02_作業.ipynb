{
 "cells": [
  {
   "cell_type": "markdown",
   "id": "8dda1196",
   "metadata": {},
   "source": [
    "# Python 基礎 - 2（作業）"
   ]
  },
  {
   "cell_type": "code",
   "execution_count": null,
   "id": "2d3900c9",
   "metadata": {},
   "outputs": [],
   "source": [
    "# 一、\n",
    "## 請用「空白鍵」當作切割符，對 test1 變數做切割，並將 Zombie、boys、Vampire 這幾個單詞抓出來，使用字串格式化的方式產生下面的句子\n",
    "## Oh! boys, please don't fear Zombie and Vampire."
   ]
  },
  {
   "cell_type": "code",
   "execution_count": null,
   "id": "68c9b026",
   "metadata": {},
   "outputs": [],
   "source": []
  },
  {
   "cell_type": "code",
   "execution_count": null,
   "id": "db84d3d1",
   "metadata": {},
   "outputs": [],
   "source": [
    "# 二、\n",
    "## 請將 List 中的數字抓出，並算出總合為多少"
   ]
  },
  {
   "cell_type": "code",
   "execution_count": null,
   "id": "41de53e6",
   "metadata": {},
   "outputs": [],
   "source": [
    "test_list =  [23, 'red', 3, ['15', 'apple', [3, '3.5']], '27', [90, 'fight']]\n"
   ]
  },
  {
   "cell_type": "code",
   "execution_count": null,
   "id": "3fb28c83",
   "metadata": {},
   "outputs": [],
   "source": [
    "# 三、\n",
    "## 請設計一個資料結構（dict of list），來儲存以下數據，並計算這10人的身高平均\n",
    "\n",
    "## Jay--M--170\n",
    "## Bill--M--189\n",
    "## Alice--F--160\n",
    "## May--F--158\n",
    "## Max--M--185\n",
    "## Ann--F--148\n",
    "## Dabby--F--150\n",
    "## Steve--M--180\n",
    "## Jet--M--173\n",
    "## Amy--F--156\n",
    "\n",
    "## 提示：可使用 sum() 合計 function"
   ]
  },
  {
   "cell_type": "code",
   "execution_count": null,
   "id": "377e270d",
   "metadata": {},
   "outputs": [],
   "source": []
  },
  {
   "cell_type": "code",
   "execution_count": null,
   "id": "13fd6189",
   "metadata": {},
   "outputs": [],
   "source": [
    "# 四、\n",
    "## 由於 A 系統與 B 系統需要，請設計一個資料結構，用於對照不同保險公司之需求，並列出總共有幾家公司需要進行修正\n",
    "\n",
    "## 台灣人壽(新) --> 台灣人壽\n",
    "## 安達國際(康健)人壽 --> 康健人壽\n",
    "## 富邦產險 --> 富邦產物\n",
    "## 泰安產險 --> 泰安產物\n",
    "## 明台產物(產) --> 明台產物\n",
    "## 旺旺友聯產物(產) --> 旺旺友聯產物\n",
    "## 新安東京產險 --> 新安東京產物"
   ]
  },
  {
   "cell_type": "code",
   "execution_count": null,
   "id": "bff4a240",
   "metadata": {},
   "outputs": [],
   "source": []
  }
 ],
 "metadata": {
  "kernelspec": {
   "display_name": "Python 3 (ipykernel)",
   "language": "python",
   "name": "python3"
  },
  "language_info": {
   "codemirror_mode": {
    "name": "ipython",
    "version": 3
   },
   "file_extension": ".py",
   "mimetype": "text/x-python",
   "name": "python",
   "nbconvert_exporter": "python",
   "pygments_lexer": "ipython3",
   "version": "3.9.13"
  }
 },
 "nbformat": 4,
 "nbformat_minor": 5
}
