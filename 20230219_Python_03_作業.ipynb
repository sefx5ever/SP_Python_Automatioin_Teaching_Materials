{
 "cells": [
  {
   "cell_type": "markdown",
   "id": "ceda0926",
   "metadata": {},
   "source": [
    "# Python 基礎 - 3（作業）"
   ]
  },
  {
   "cell_type": "code",
   "execution_count": null,
   "id": "b5b4da85",
   "metadata": {},
   "outputs": [],
   "source": [
    "# 一、\n",
    "## 請用 for 列出從 1 至 9 的九九乘法表\n",
    "## 提示：巢狀結構"
   ]
  },
  {
   "cell_type": "code",
   "execution_count": null,
   "id": "e2490f57",
   "metadata": {},
   "outputs": [],
   "source": []
  },
  {
   "cell_type": "code",
   "execution_count": null,
   "id": "02e7f866",
   "metadata": {},
   "outputs": [],
   "source": [
    "# 二、\n",
    "## 請透過任何 loop 畫出一顆聖誕樹，畫面如下\n",
    "\n",
    "##          *\n",
    "##         ***\n",
    "##        *****\n",
    "##       *******\n",
    "##      *********\n",
    "##     ***********\n",
    "##          *\n",
    "##         ***\n",
    "##        *****\n",
    "##       *******\n",
    "##      *********\n",
    "##     ***********\n",
    "##          *\n",
    "##         ***\n",
    "##        *****\n",
    "##       *******\n",
    "##      *********\n",
    "##     ***********\n",
    "##         ***\n",
    "##         ***\n",
    "##         ***\n",
    "##         ***"
   ]
  },
  {
   "cell_type": "code",
   "execution_count": null,
   "id": "879f6f31",
   "metadata": {},
   "outputs": [],
   "source": []
  },
  {
   "cell_type": "code",
   "execution_count": null,
   "id": "947a22fb",
   "metadata": {},
   "outputs": [],
   "source": [
    "# 三、\n",
    "## 請以你所學，完成模擬 sorted function 的運作原理。"
   ]
  },
  {
   "cell_type": "code",
   "execution_count": null,
   "id": "29c9730b",
   "metadata": {},
   "outputs": [],
   "source": [
    "test = [2,43,56,3,6,6,6,3,-3,10,0]\n",
    "# output = [-3,0,2,3,3,6,6,6,10,43,56]"
   ]
  }
 ],
 "metadata": {
  "kernelspec": {
   "display_name": "Python 3 (ipykernel)",
   "language": "python",
   "name": "python3"
  },
  "language_info": {
   "codemirror_mode": {
    "name": "ipython",
    "version": 3
   },
   "file_extension": ".py",
   "mimetype": "text/x-python",
   "name": "python",
   "nbconvert_exporter": "python",
   "pygments_lexer": "ipython3",
   "version": "3.9.13"
  }
 },
 "nbformat": 4,
 "nbformat_minor": 5
}
