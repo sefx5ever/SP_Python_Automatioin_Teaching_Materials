{
 "cells": [
  {
   "cell_type": "markdown",
   "id": "ceda0926",
   "metadata": {},
   "source": [
    "# Python 基礎 - 3（作業）"
   ]
  },
  {
   "cell_type": "code",
   "execution_count": null,
   "id": "b5b4da85",
   "metadata": {},
   "outputs": [],
   "source": [
    "# 一、\n",
    "## 請用 for 列出從 1 至 9 的九九乘法表\n",
    "## 提示：巢狀結構"
   ]
  },
  {
   "cell_type": "code",
   "execution_count": 24,
   "id": "e2490f57",
   "metadata": {
    "scrolled": true
   },
   "outputs": [
    {
     "name": "stdout",
     "output_type": "stream",
     "text": [
      "1 x 1 = 1\n",
      "1 x 2 = 2\n",
      "1 x 3 = 3\n",
      "1 x 4 = 4\n",
      "1 x 5 = 5\n",
      "1 x 6 = 6\n",
      "1 x 7 = 7\n",
      "1 x 8 = 8\n",
      "1 x 9 = 9\n",
      "2 x 1 = 2\n",
      "2 x 2 = 4\n",
      "2 x 3 = 6\n",
      "2 x 4 = 8\n",
      "2 x 5 = 10\n",
      "2 x 6 = 12\n",
      "2 x 7 = 14\n",
      "2 x 8 = 16\n",
      "2 x 9 = 18\n",
      "3 x 1 = 3\n",
      "3 x 2 = 6\n",
      "3 x 3 = 9\n",
      "3 x 4 = 12\n",
      "3 x 5 = 15\n",
      "3 x 6 = 18\n",
      "3 x 7 = 21\n",
      "3 x 8 = 24\n",
      "3 x 9 = 27\n",
      "4 x 1 = 4\n",
      "4 x 2 = 8\n",
      "4 x 3 = 12\n",
      "4 x 4 = 16\n",
      "4 x 5 = 20\n",
      "4 x 6 = 24\n",
      "4 x 7 = 28\n",
      "4 x 8 = 32\n",
      "4 x 9 = 36\n",
      "5 x 1 = 5\n",
      "5 x 2 = 10\n",
      "5 x 3 = 15\n",
      "5 x 4 = 20\n",
      "5 x 5 = 25\n",
      "5 x 6 = 30\n",
      "5 x 7 = 35\n",
      "5 x 8 = 40\n",
      "5 x 9 = 45\n",
      "6 x 1 = 6\n",
      "6 x 2 = 12\n",
      "6 x 3 = 18\n",
      "6 x 4 = 24\n",
      "6 x 5 = 30\n",
      "6 x 6 = 36\n",
      "6 x 7 = 42\n",
      "6 x 8 = 48\n",
      "6 x 9 = 54\n",
      "7 x 1 = 7\n",
      "7 x 2 = 14\n",
      "7 x 3 = 21\n",
      "7 x 4 = 28\n",
      "7 x 5 = 35\n",
      "7 x 6 = 42\n",
      "7 x 7 = 49\n",
      "7 x 8 = 56\n",
      "7 x 9 = 63\n",
      "8 x 1 = 8\n",
      "8 x 2 = 16\n",
      "8 x 3 = 24\n",
      "8 x 4 = 32\n",
      "8 x 5 = 40\n",
      "8 x 6 = 48\n",
      "8 x 7 = 56\n",
      "8 x 8 = 64\n",
      "8 x 9 = 72\n",
      "9 x 1 = 9\n",
      "9 x 2 = 18\n",
      "9 x 3 = 27\n",
      "9 x 4 = 36\n",
      "9 x 5 = 45\n",
      "9 x 6 = 54\n",
      "9 x 7 = 63\n",
      "9 x 8 = 72\n",
      "9 x 9 = 81\n"
     ]
    }
   ],
   "source": [
    "for left_no in range(1,10):\n",
    "    for right_no in range(1,10):\n",
    "        print(f\"{left_no} x {right_no} = {left_no*right_no}\")"
   ]
  },
  {
   "cell_type": "code",
   "execution_count": null,
   "id": "02e7f866",
   "metadata": {},
   "outputs": [],
   "source": [
    "# 二、\n",
    "## 請透過任何 loop 畫出一顆聖誕樹，畫面如下\n",
    "\n",
    "##          *\n",
    "##         ***\n",
    "##        *****\n",
    "##       *******\n",
    "##      *********\n",
    "##     ***********\n",
    "##          *\n",
    "##         ***\n",
    "##        *****\n",
    "##       *******\n",
    "##      *********\n",
    "##     ***********\n",
    "##          *\n",
    "##         ***\n",
    "##        *****\n",
    "##       *******\n",
    "##      *********\n",
    "##     ***********\n",
    "##         ***\n",
    "##         ***\n",
    "##         ***\n",
    "##         ***"
   ]
  },
  {
   "cell_type": "code",
   "execution_count": 31,
   "id": "879f6f31",
   "metadata": {},
   "outputs": [
    {
     "name": "stdout",
     "output_type": "stream",
     "text": [
      "      \n",
      "     *\n",
      "    ***\n",
      "   *****\n",
      "  *******\n",
      " *********\n",
      "      \n",
      "     *\n",
      "    ***\n",
      "   *****\n",
      "  *******\n",
      " *********\n",
      "      \n",
      "     *\n",
      "    ***\n",
      "   *****\n",
      "  *******\n",
      " *********\n",
      "    ***\n",
      "    ***\n",
      "    ***\n",
      "    ***\n"
     ]
    }
   ],
   "source": [
    "# 層數：3\n",
    "# 行數：6\n",
    "# 最大星數：11\n",
    "for _ in range(3):\n",
    "    for row in range(6):\n",
    "        print(\" \"*(5-row),\"*\"*(row*2-1))\n",
    "        \n",
    "for a in range(4):\n",
    "    print(\" \"*3,\"*\"*3)"
   ]
  },
  {
   "cell_type": "code",
   "execution_count": null,
   "id": "947a22fb",
   "metadata": {},
   "outputs": [],
   "source": [
    "# 三、\n",
    "## 請以你所學，完成模擬 sorted function 的運作原理。"
   ]
  },
  {
   "cell_type": "code",
   "execution_count": null,
   "id": "29c9730b",
   "metadata": {},
   "outputs": [],
   "source": [
    "test = [2,43,56,3,6,6,6,3,-3,10,0]\n",
    "# output = [-3,0,2,3,3,6,6,6,10,43,56]"
   ]
  },
  {
   "cell_type": "code",
   "execution_count": null,
   "id": "159dc65a",
   "metadata": {},
   "outputs": [],
   "source": [
    "# list.append()\n",
    "# list.insert(<val>,<index>)\n",
    "# if-elif-else\n",
    "output = []\n",
    "\n",
    "for num in test:"
   ]
  }
 ],
 "metadata": {
  "kernelspec": {
   "display_name": "Python 3 (ipykernel)",
   "language": "python",
   "name": "python3"
  },
  "language_info": {
   "codemirror_mode": {
    "name": "ipython",
    "version": 3
   },
   "file_extension": ".py",
   "mimetype": "text/x-python",
   "name": "python",
   "nbconvert_exporter": "python",
   "pygments_lexer": "ipython3",
   "version": "3.9.13"
  }
 },
 "nbformat": 4,
 "nbformat_minor": 5
}
