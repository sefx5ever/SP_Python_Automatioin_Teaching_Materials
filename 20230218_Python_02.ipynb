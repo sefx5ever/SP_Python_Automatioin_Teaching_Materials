{
 "cells": [
  {
   "cell_type": "markdown",
   "metadata": {},
   "source": [
    "# Python 基礎 - 2"
   ]
  },
  {
   "cell_type": "code",
   "execution_count": null,
   "metadata": {},
   "outputs": [],
   "source": [
    "#Data Type/Conversion 介紹與應用（container）\n",
    "## Tuple x = (1,2,3,4)\n",
    "## List x = [1,2,3,4]\n",
    "## Dictionary x = {\"key\" : \"value\"}\n",
    "## Set x = {1,2,3,4}"
   ]
  },
  {
   "cell_type": "markdown",
   "metadata": {},
   "source": [
    "### Tuple 元組\n",
    "* 元素具順序性\n",
    "* 不可變動\n",
    "* 常用情景：API Response Format，資料庫儲存格式"
   ]
  },
  {
   "cell_type": "code",
   "execution_count": null,
   "metadata": {},
   "outputs": [],
   "source": [
    "#宣告方式\n",
    "## Way 1\n",
    "x = (1,2,3)\n",
    "\n",
    "## Way 2\n",
    "x = tuple([1,2,3,4])"
   ]
  },
  {
   "cell_type": "code",
   "execution_count": null,
   "metadata": {},
   "outputs": [],
   "source": [
    "#取值\n",
    "x = (1,2,[3,4],5)\n",
    "print(x[-1])\n",
    "print(x[-2][1])"
   ]
  },
  {
   "cell_type": "code",
   "execution_count": null,
   "metadata": {},
   "outputs": [],
   "source": [
    "#新增\n",
    "## Way 1\n",
    "x1 = (1,2,3)\n",
    "x2 = (4,5,6)\n",
    "x3 = x1 + x2\n",
    "\n",
    "## Way2\n",
    "x = (1,2,3)*2"
   ]
  },
  {
   "cell_type": "code",
   "execution_count": null,
   "metadata": {},
   "outputs": [],
   "source": [
    "#修改（可修改的特例情況）\n",
    "x = (1,[2,3,4],5)\n",
    "x[1][2] = 6\n",
    "print(x)"
   ]
  },
  {
   "cell_type": "markdown",
   "metadata": {},
   "source": [
    "### List 列表、串列\n",
    "* 元素具順序性\n",
    "* 可變動\n",
    "* 常用情景：API Response Format，資料庫儲存格式，Ragic Input 格式"
   ]
  },
  {
   "cell_type": "code",
   "execution_count": null,
   "metadata": {},
   "outputs": [],
   "source": [
    "#宣告方式\n",
    "## Way 1\n",
    "x = [1,2,3]\n",
    "\n",
    "## Way 2\n",
    "x = list((1,2,3,4))"
   ]
  },
  {
   "cell_type": "code",
   "execution_count": null,
   "metadata": {},
   "outputs": [],
   "source": [
    "#取值\n",
    "x = [1,2,[3,4],5]\n",
    "print(x[-1])\n",
    "print(x[-2][1])"
   ]
  },
  {
   "cell_type": "code",
   "execution_count": null,
   "metadata": {},
   "outputs": [],
   "source": [
    "#新增\n",
    "## Way 1: 相加\n",
    "x1 = [1,2,3]\n",
    "x2 = [4,5,6]\n",
    "x3 = x1 + x2\n",
    "\n",
    "## Way 2: 相乘\n",
    "x = [1,2,3]*2\n",
    "\n",
    "## Way 3: append\n",
    "x1 = [1,2,3]\n",
    "x2 = [4,5,6]\n",
    "x1.append(x2)\n",
    "\n",
    "## Way 4: extend\n",
    "x1 = [1,2,3]\n",
    "x2 = [4,5,6]\n",
    "x1.extend(x2)\n",
    "\n",
    "## Way 5: insert(index,input value)\n",
    "x = [1,2,3]\n",
    "x.insert(0,1)"
   ]
  },
  {
   "cell_type": "code",
   "execution_count": null,
   "metadata": {},
   "outputs": [],
   "source": [
    "#修改\n",
    "x = [1,2,3]\n",
    "x[2] = 4"
   ]
  },
  {
   "cell_type": "code",
   "execution_count": null,
   "metadata": {},
   "outputs": [],
   "source": [
    "#刪除\n",
    "x = [1,2,3,4]\n",
    "\n",
    "## Way 1: remove(value)\n",
    "x.remove(2)\n",
    "\n",
    "## Way 2: pop(index)\n",
    "x.pop(0) # 若無 input，則預設為 0"
   ]
  },
  {
   "cell_type": "code",
   "execution_count": null,
   "metadata": {},
   "outputs": [],
   "source": [
    "#其他功能\n",
    "x = [4,5,6,6,6,7]\n",
    "\n",
    "## index(value) 查詢 List 中元素的位置\n",
    "x.index(4)\n",
    "\n",
    "## count(value) 查詢 List 中元素出現的次數\n",
    "x.count(6)\n",
    "\n",
    "## sort() 排序\n",
    "x.sort()\n",
    "\n",
    "## reverse() 反轉\n",
    "x.reverse()\n",
    "\n",
    "## sorted(list) 排序\n",
    "sorted(x)"
   ]
  },
  {
   "cell_type": "markdown",
   "metadata": {},
   "source": [
    "### Dict 字典\n",
    "* 映射類型：{'key':'value'}，一個 key 僅能對應到一個 value\n",
    "* key 必需是不可變動的"
   ]
  },
  {
   "cell_type": "code",
   "execution_count": null,
   "metadata": {},
   "outputs": [],
   "source": [
    "#宣告方式\n",
    "## Way 1\n",
    "x = {\n",
    "    \"key1\" : \"value1\",\n",
    "    \"key2\" : \"value2\"\n",
    "}\n",
    "\n",
    "## Way 2\n",
    "x = dict([(\"key1\",\"value1\"),(\"key2\",\"value2\")])\n",
    "\n",
    "## Way 3\n",
    "x = dict()"
   ]
  },
  {
   "cell_type": "code",
   "execution_count": null,
   "metadata": {},
   "outputs": [],
   "source": [
    "#取值\n",
    "x = {\n",
    "    \"key1\" : \"value1\",\n",
    "    \"key2\" : [1,2,[3,4],5]\n",
    "}\n",
    "print(x[\"key2\"][-2][0])"
   ]
  },
  {
   "cell_type": "code",
   "execution_count": null,
   "metadata": {},
   "outputs": [],
   "source": [
    "#新增\n",
    "x[\"key3\"] = \"value3\""
   ]
  },
  {
   "cell_type": "code",
   "execution_count": null,
   "metadata": {},
   "outputs": [],
   "source": [
    "#修改\n",
    "x[\"key1\"] = \"value00\""
   ]
  },
  {
   "cell_type": "code",
   "execution_count": null,
   "metadata": {},
   "outputs": [],
   "source": [
    "#刪除\n",
    "## Way 1\n",
    "del x[\"key1\"]\n",
    "\n",
    "## Way 2\n",
    "x.pop(\"key3\")"
   ]
  },
  {
   "cell_type": "code",
   "execution_count": null,
   "metadata": {},
   "outputs": [],
   "source": [
    "#其他功能\n",
    "x = {\n",
    "    \"key1\" : \"value1\",\n",
    "    \"key2\" : [1,2,[3,4],5]\n",
    "}\n",
    "\n",
    "## 取得所有的 key\n",
    "x.keys()\n",
    "\n",
    "## 取得所有的 item\n",
    "x.values()\n",
    "\n",
    "## 以 list of tuple 的形式取得 dict 中的元素\n",
    "x.items()\n",
    "\n",
    "## get(key) 判斷 key 是否存在，並以 bool 回傳結果\n",
    "x.get(\"key1\")"
   ]
  },
  {
   "cell_type": "markdown",
   "metadata": {},
   "source": [
    "### Set 集合\n",
    "* 無順序性\n",
    "* 不重複的元素集"
   ]
  },
  {
   "cell_type": "code",
   "execution_count": null,
   "metadata": {},
   "outputs": [],
   "source": [
    "#宣告方式\n",
    "## Way 1\n",
    "x = {1,2,3,4}\n",
    "\n",
    "## Way 2\n",
    "x = set((1,2,3,4))\n",
    "\n",
    "## Way 3\n",
    "x = set([1,2,3,4])"
   ]
  },
  {
   "cell_type": "code",
   "execution_count": null,
   "metadata": {},
   "outputs": [],
   "source": [
    "#新增\n",
    "x.add(2)"
   ]
  },
  {
   "cell_type": "code",
   "execution_count": null,
   "metadata": {},
   "outputs": [],
   "source": [
    "#刪除\n",
    "x.remove(2)"
   ]
  },
  {
   "cell_type": "code",
   "execution_count": null,
   "metadata": {},
   "outputs": [],
   "source": [
    "#聯集\n",
    "x1 = {1,2,3}\n",
    "x2 = {2,3,4}\n",
    "print(x1 | x2)"
   ]
  },
  {
   "cell_type": "code",
   "execution_count": null,
   "metadata": {},
   "outputs": [],
   "source": [
    "#交集\n",
    "print(x1 & x2)"
   ]
  },
  {
   "cell_type": "code",
   "execution_count": null,
   "metadata": {},
   "outputs": [],
   "source": [
    "#插集\n",
    "print(x1 - x2)\n",
    "print(x2 - x1)"
   ]
  },
  {
   "cell_type": "markdown",
   "metadata": {},
   "source": [
    "---"
   ]
  },
  {
   "cell_type": "code",
   "execution_count": null,
   "metadata": {},
   "outputs": [],
   "source": [
    "#成員運算符號 （in、not in）\n",
    "x1 = (1,2,3,4)\n",
    "print(f\"數字 1 是否在 x1 中 {1 in x1}\")\n",
    "\n",
    "x2 = [1,2,3,4]\n",
    "print(f\"數字 1 是否在 x2 中 {1 in x2}\")\n",
    "\n",
    "x3 = { \"key1\":\"value1\" }\n",
    "print(f\"數字 key1 是否在 x3 中 {'key1' in x3}\")\n",
    "\n",
    "x4 = {1,2,3,4}\n",
    "print(f\"數字 1 是否在 x4 中 {1 in x4}\")"
   ]
  },
  {
   "cell_type": "markdown",
   "metadata": {},
   "source": [
    "---"
   ]
  },
  {
   "cell_type": "code",
   "execution_count": null,
   "metadata": {},
   "outputs": [],
   "source": [
    "#Built-in Function（eval、isinstance、len）\n",
    "x0 = [1,2,3]\n",
    "x1,x2,x3 = x0\n",
    "\n",
    "## isinstance\n",
    "print(isinstance(x1,str))\n",
    "\n",
    "## len\n",
    "print(len(x0))\n",
    "\n",
    "## eval\n",
    "x = \"3+2\"\n",
    "print(eval(x))"
   ]
  }
 ],
 "metadata": {
  "kernelspec": {
   "display_name": "Python 3 (ipykernel)",
   "language": "python",
   "name": "python3"
  },
  "language_info": {
   "codemirror_mode": {
    "name": "ipython",
    "version": 3
   },
   "file_extension": ".py",
   "mimetype": "text/x-python",
   "name": "python",
   "nbconvert_exporter": "python",
   "pygments_lexer": "ipython3",
   "version": "3.9.13"
  }
 },
 "nbformat": 4,
 "nbformat_minor": 2
}
